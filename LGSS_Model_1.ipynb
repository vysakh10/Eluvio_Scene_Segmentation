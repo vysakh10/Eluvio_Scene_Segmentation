{
 "cells": [
  {
   "cell_type": "code",
   "execution_count": 1,
   "metadata": {},
   "outputs": [],
   "source": [
    "import numpy as np\n",
    "import tensorflow as tf\n",
    "from tensorflow.keras.layers import Dense, MaxPool2D, Conv1D, LSTM, Conv2D\n",
    "import pickle\n",
    "from sklearn.metrics import roc_auc_score, confusion_matrix\n",
    "import os\n",
    "import matplotlib.pyplot as plt\n",
    "import seaborn as sns"
   ]
  },
  {
   "cell_type": "code",
   "execution_count": 2,
   "metadata": {},
   "outputs": [],
   "source": [
    "# Loading the combined shots data\n",
    "\n",
    "with open('Combined_Data_Train.pkl', 'rb') as f:\n",
    "    data_train = pickle.load(f)\n",
    "    \n",
    "with open('Combined_Data_Test.pkl', 'rb') as f:\n",
    "    data_test = pickle.load(f)\n",
    "    \n",
    "with open('Combined_Data_CV.pkl', 'rb') as f:\n",
    "    data_cv = pickle.load(f)"
   ]
  },
  {
   "cell_type": "code",
   "execution_count": 3,
   "metadata": {},
   "outputs": [],
   "source": [
    "physical_devices = tf.config.list_physical_devices('GPU')\n",
    "tf.config.experimental.set_memory_growth(physical_devices[0], enable=True)"
   ]
  },
  {
   "cell_type": "markdown",
   "metadata": {},
   "source": [
    "## Model Creation and Training"
   ]
  },
  {
   "cell_type": "code",
   "execution_count": 4,
   "metadata": {},
   "outputs": [],
   "source": [
    "class cosine_similarity(tf.keras.layers.Layer):\n",
    "    \n",
    "    def __init__(self):\n",
    "        super(cosine_similarity, self).__init__()\n",
    "        self.conv1 = Conv1D(128, (2), data_format='channels_first', padding='same')\n",
    "        \n",
    "    def call(self, x):\n",
    "        x1, x2 = tf.split(x, 2, 1)\n",
    "        \n",
    "        cv1 = self.conv1(x1)\n",
    "        cv2 = self.conv1(x2)\n",
    "        cs = tf.keras.layers.dot( [cv1, cv2],axes=2)\n",
    "        cs = tf.add(cs[:,1], cs[:,2])\n",
    "        \n",
    "        return cs"
   ]
  },
  {
   "cell_type": "code",
   "execution_count": 5,
   "metadata": {},
   "outputs": [],
   "source": [
    "class BNet(tf.keras.layers.Layer):\n",
    "    '''Boundary Net as Mentioned in the Paper'''\n",
    "    def __init__(self):\n",
    "        super(BNet, self).__init__()\n",
    "        self.conv1 = Conv1D(128, (4), data_format='channels_first', padding='same')        \n",
    "        self.maxpool = MaxPool2D((128,1),1)#, data_format='channels_last')  # same\n",
    "        self.cos = cosine_similarity()\n",
    "        self.lstm1 = LSTM(128, return_sequences=True)\n",
    "        self.lstm2 = LSTM(128, return_sequences=True)\n",
    "        self.dense1 = Dense(64, activation='relu', kernel_initializer='he_normal')\n",
    "        self.dense2 = Dense(1, activation='sigmoid') \n",
    "        \n",
    "    def call(self, x, feat):\n",
    "        \n",
    "        x1 = tf.reshape(x, (-1, 1, x.shape[1]))\n",
    "        cv1 = self.conv1(x1)\n",
    "        cv2 = tf.reshape(cv1, (-1, cv1.shape[1], 1, cv1.shape[2]))\n",
    "        m1 = self.maxpool(cv2)\n",
    "        m1 = tf.reshape(m1, (-1, m1.shape[3]))\n",
    "        \n",
    "        cosine_sim = self.cos(cv1)\n",
    "        \n",
    "        concat = tf.concat([m1, cosine_sim], axis=1)\n",
    "        concat_reshape = tf.reshape(concat, (-1, 1, concat.shape[1])) \n",
    "        \n",
    "        if feat == 'place':\n",
    "            lstm_output = self.lstm1(concat_reshape)\n",
    "        else:\n",
    "            lstm_output = self.lstm2(concat_reshape)\n",
    "\n",
    "        fc1 = self.dense1(lstm_output)\n",
    "\n",
    "        fc2 = self.dense2(fc1)\n",
    "\n",
    "        fc2 = tf.reshape(fc2, (-1,1))\n",
    "        \n",
    "        return fc2"
   ]
  },
  {
   "cell_type": "code",
   "execution_count": 6,
   "metadata": {},
   "outputs": [],
   "source": [
    "class LGSS(tf.keras.layers.Layer):\n",
    "    def __init__(self):\n",
    "        super(LGSS, self).__init__()\n",
    "        self.bnet_place = BNet()\n",
    "        self.bnet_cast = BNet()\n",
    "        self.bnet_action = BNet()\n",
    "        self.bnet_audio = BNet()\n",
    "    def call(self, place_feat, cast_feat, action_feat, audio_feat):\n",
    "        \n",
    "        output = 0\n",
    "      #  print('\\nPlace Feature')\n",
    "        p_bnet = self.bnet_place(place_feat, 'place')\n",
    "        output += 0.5*p_bnet\n",
    "     #   print('\\nCast Feature')\n",
    "        c_bnet = self.bnet_place(cast_feat, 'cast')\n",
    "        output += 0.2*c_bnet\n",
    "    #    print('\\nAction Feature')\n",
    "        ac_bnet = self.bnet_action(action_feat, 'action')\n",
    "        output += 0.2*ac_bnet\n",
    "   #     print('\\nAudio Feature')\n",
    "        a_bnet = self.bnet_audio(audio_feat, 'audio')\n",
    "        output += 0.1*a_bnet\n",
    "        \n",
    "        return output"
   ]
  },
  {
   "cell_type": "code",
   "execution_count": 7,
   "metadata": {},
   "outputs": [],
   "source": [
    "class Local_to_Global_Model(tf.keras.Model):\n",
    "    def __init__(self):\n",
    "        super(Local_to_Global_Model, self).__init__()\n",
    "        self.lgss = LGSS()\n",
    "    \n",
    "    def call(self, data):\n",
    "        place_features = data[0]\n",
    "        cast_features = data[1]\n",
    "        action_features = data[2]\n",
    "        audio_features = data[3]\n",
    "        \n",
    "        output = self.lgss(place_features, cast_features, action_features, audio_features)\n",
    "        \n",
    "        return output"
   ]
  },
  {
   "cell_type": "code",
   "execution_count": 8,
   "metadata": {},
   "outputs": [],
   "source": [
    "LGSS_model = Local_to_Global_Model()"
   ]
  },
  {
   "cell_type": "code",
   "execution_count": 9,
   "metadata": {},
   "outputs": [],
   "source": [
    "class scoring(tf.keras.callbacks.Callback):\n",
    "    '''Callback to calculate AUC score for each epoch'''\n",
    "    def __init__(self, validation_data):\n",
    "        self.data = validation_data[:4]\n",
    "        self.labels = validation_data[4]\n",
    "    def on_train_begin(self, logs={}):\n",
    "      #  self.f1=0\n",
    "        self.auc=0\n",
    "    def on_epoch_end(self, epoch, logs={}):\n",
    "        \n",
    "        predictions = self.model.predict(self.data)\n",
    "        #y_val = self.validation_data[1]\n",
    "        self.auc = roc_auc_score(self.labels, predictions)\n",
    "        \n",
    "        print(\"  AUC: {}\".format(self.auc))"
   ]
  },
  {
   "cell_type": "code",
   "execution_count": 36,
   "metadata": {},
   "outputs": [],
   "source": [
    "AUC = scoring(data_cv)\n",
    "\n",
    "# saves the model after each epoch\n",
    "checkpoint = tf.keras.callbacks.ModelCheckpoint('Weights_Model1/model_log_m1_{epoch:02d}.h5', save_weights_only=True)\n",
    "\n",
    "# reduces learning rate if the val_loss doesn't improve\n",
    "lr_schedule = tf.keras.callbacks.ReduceLROnPlateau(monitor='val_loss', factor=0.2, patience=1,min_lr = 1E-5)"
   ]
  },
  {
   "cell_type": "code",
   "execution_count": 11,
   "metadata": {},
   "outputs": [],
   "source": [
    "optimizer = tf.keras.optimizers.Adam(0.0001)\n",
    "LGSS_model.compile(optimizer=optimizer, loss='binary_crossentropy')"
   ]
  },
  {
   "cell_type": "code",
   "execution_count": 21,
   "metadata": {},
   "outputs": [
    {
     "name": "stdout",
     "output_type": "stream",
     "text": [
      "Train on 98434 samples, validate on 4268 samples\n",
      "Epoch 1/10\n",
      "98432/98434 [============================>.] - ETA: 0s - loss: 0.2682  AUC: 0.6443095147941797\n",
      "98434/98434 [==============================] - 141s 1ms/sample - loss: 0.2682 - val_loss: 0.2348\n",
      "Epoch 2/10\n",
      "98400/98434 [============================>.] - ETA: 0s - loss: 0.2601  AUC: 0.6855997908440166\n",
      "98434/98434 [==============================] - 134s 1ms/sample - loss: 0.2601 - val_loss: 0.2291\n",
      "Epoch 3/10\n",
      "98432/98434 [============================>.] - ETA: 0s - loss: 0.2535  AUC: 0.6936486900705\n",
      "98434/98434 [==============================] - 132s 1ms/sample - loss: 0.2535 - val_loss: 0.2258\n",
      "Epoch 4/10\n",
      "98400/98434 [============================>.] - ETA: 0s - loss: 0.2519  AUC: 0.6965209787057571\n",
      "98434/98434 [==============================] - 132s 1ms/sample - loss: 0.2519 - val_loss: 0.2252\n",
      "Epoch 5/10\n",
      "98400/98434 [============================>.] - ETA: 0s - loss: 0.2508  AUC: 0.6978245974648851\n",
      "98434/98434 [==============================] - 132s 1ms/sample - loss: 0.2508 - val_loss: 0.2270\n",
      "Epoch 6/10\n",
      "98400/98434 [============================>.] - ETA: 0s - loss: 0.2494  AUC: 0.7053470005950128\n",
      "98434/98434 [==============================] - 132s 1ms/sample - loss: 0.2494 - val_loss: 0.2238\n",
      "Epoch 7/10\n",
      "98400/98434 [============================>.] - ETA: 0s - loss: 0.2483  AUC: 0.7061601846342475\n",
      "98434/98434 [==============================] - 132s 1ms/sample - loss: 0.2482 - val_loss: 0.2233\n",
      "Epoch 8/10\n",
      "98432/98434 [============================>.] - ETA: 0s - loss: 0.2473  AUC: 0.7150015326084996\n",
      "98434/98434 [==============================] - 134s 1ms/sample - loss: 0.2473 - val_loss: 0.2219\n",
      "Epoch 9/10\n",
      "98400/98434 [============================>.] - ETA: 0s - loss: 0.2460  AUC: 0.7127981825066264\n",
      "98434/98434 [==============================] - 133s 1ms/sample - loss: 0.2460 - val_loss: 0.2226\n",
      "Epoch 10/10\n",
      "98400/98434 [============================>.] - ETA: 0s - loss: 0.2450  AUC: 0.7171381691639169\n",
      "98434/98434 [==============================] - 134s 1ms/sample - loss: 0.2450 - val_loss: 0.2213\n"
     ]
    },
    {
     "data": {
      "text/plain": [
       "<tensorflow.python.keras.callbacks.History at 0x23f5d248488>"
      ]
     },
     "execution_count": 21,
     "metadata": {},
     "output_type": "execute_result"
    }
   ],
   "source": [
    "LGSS_model.fit(data_train[:4], data_train[4], batch_size=32, epochs=10, verbose=1,\n",
    "              validation_data=(data_cv[:4], data_cv[4]),\n",
    "              callbacks=[AUC, checkpoint, lr_schedule])"
   ]
  },
  {
   "cell_type": "code",
   "execution_count": 13,
   "metadata": {},
   "outputs": [],
   "source": [
    "#LGSS_model.load_weights('Weights_Model1/model_log_m1_10.h5')"
   ]
  },
  {
   "cell_type": "markdown",
   "metadata": {},
   "source": [
    "## Evaluation"
   ]
  },
  {
   "cell_type": "code",
   "execution_count": 31,
   "metadata": {},
   "outputs": [],
   "source": [
    "preds = LGSS_model.predict(data_test[:4])  # predicting labels for test data"
   ]
  },
  {
   "cell_type": "code",
   "execution_count": 33,
   "metadata": {},
   "outputs": [],
   "source": [
    "def evaluate(predictions, threshold):\n",
    "    lst = []\n",
    "    for i in predictions:\n",
    "        if i > threshold:\n",
    "            lst.append(1)\n",
    "        else:\n",
    "            lst.append(0)\n",
    "    return lst"
   ]
  },
  {
   "cell_type": "code",
   "execution_count": 34,
   "metadata": {},
   "outputs": [
    {
     "data": {
      "text/plain": [
       "Text(0.5, 15.0, 'Predicted')"
      ]
     },
     "execution_count": 34,
     "metadata": {},
     "output_type": "execute_result"
    },
    {
     "data": {
      "image/png": "[encoded data removed]",
      "text/plain": [
       "<Figure size 432x288 with 2 Axes>"
      ]
     },
     "metadata": {
      "needs_background": "light"
     },
     "output_type": "display_data"
    }
   ],
   "source": [
    "plt.title('Prediction Results')\n",
    "sns.heatmap(confusion_matrix(data_test[4], evaluate(preds, 0.2)), annot=True, cmap='Reds')\n",
    "plt.ylabel('Ground Truth')\n",
    "plt.xlabel('Predicted')"
   ]
  }
 ],
 "metadata": {
  "kernelspec": {
   "display_name": "Python [conda env:py3-TF2.0] *",
   "language": "python",
   "name": "conda-env-py3-TF2.0-py"
  },
  "language_info": {
   "codemirror_mode": {
    "name": "ipython",
    "version": 3
   },
   "file_extension": ".py",
   "mimetype": "text/x-python",
   "name": "python",
   "nbconvert_exporter": "python",
   "pygments_lexer": "ipython3",
   "version": "3.7.7"
  }
 },
 "nbformat": 4,
 "nbformat_minor": 4
}
